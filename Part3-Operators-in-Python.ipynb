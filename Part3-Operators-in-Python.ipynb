{
 "cells": [
  {
   "cell_type": "markdown",
   "metadata": {},
   "source": [
    "# BASIC OPERATORS IN PYTHON"
   ]
  },
  {
   "cell_type": "markdown",
   "metadata": {},
   "source": [
    "  ## Examples of Arithmetic Operator "
   ]
  },
  {
   "cell_type": "code",
   "execution_count": 1,
   "metadata": {},
   "outputs": [
    {
     "name": "stdout",
     "output_type": "stream",
     "text": [
      "13\n",
      "5\n",
      "36\n",
      "2.25\n",
      "1\n",
      "2\n",
      "6561\n"
     ]
    }
   ],
   "source": [
    "# Initialize The Value\n",
    "a = 9\n",
    "b = 4\n",
    "\n",
    "  # Addition of numbers  \n",
    "add = a + b  \n",
    "\n",
    "  # Subtraction of numbers  \n",
    "sub = a - b  \n",
    "\n",
    "  # Multiplication of number  \n",
    "mul = a * b  \n",
    "\n",
    "  # Division(float) of number  \n",
    "div1 = a / b  \n",
    "     \n",
    "  # Division(floor) of number  \n",
    "div2 = a // b  \n",
    "\n",
    "  # Modulo of both number  \n",
    "mod = a % b  \n",
    "\n",
    "   # Power \n",
    "p = a ** b \n",
    "   \n",
    "print(add)  \n",
    "print(sub)  \n",
    "print(mul)  \n",
    "print(div1)  \n",
    "print(mod) \n",
    "print(div2)\n",
    "print(p) "
   ]
  },
  {
   "cell_type": "markdown",
   "metadata": {},
   "source": [
    " ### Example Of Relational Operator"
   ]
  },
  {
   "cell_type": "code",
   "execution_count": 2,
   "metadata": {},
   "outputs": [
    {
     "name": "stdout",
     "output_type": "stream",
     "text": [
      "False\n",
      "True\n",
      "False\n",
      "True\n",
      "False\n",
      "True\n"
     ]
    }
   ],
   "source": [
    "# Initialize Value \n",
    "a = 13\n",
    "b = 33\n",
    "\n",
    "# a > b is False \n",
    "print(a > b) \n",
    "\n",
    "# a < b is True \n",
    "print(a < b) \n",
    "\n",
    "# a == b is False \n",
    "print(a == b) \n",
    "\n",
    "# a != b is True \n",
    "print(a != b) \n",
    "\n",
    "# a >= b is False \n",
    "print(a >= b) \n",
    "\n",
    "# a <= b is True \n",
    "print(a <= b)"
   ]
  },
  {
   "cell_type": "markdown",
   "metadata": {},
   "source": [
    "### Example Of Logical Operator  "
   ]
  },
  {
   "cell_type": "code",
   "execution_count": 3,
   "metadata": {},
   "outputs": [
    {
     "name": "stdout",
     "output_type": "stream",
     "text": [
      "False\n",
      "True\n",
      "False\n"
     ]
    }
   ],
   "source": [
    "# Initialize Value \n",
    "a = True\n",
    "b = False\n",
    "\n",
    "     # Print a and b is False \n",
    "print(a and b) \n",
    "\n",
    "     # Print a or b is True \n",
    "print(a or b) \n",
    "\n",
    "     # Print not a is False \n",
    "print(not a) "
   ]
  },
  {
   "cell_type": "markdown",
   "metadata": {},
   "source": [
    "\n",
    "### Example Of Membership Operator"
   ]
  },
  {
   "cell_type": "code",
   "execution_count": 4,
   "metadata": {},
   "outputs": [
    {
     "name": "stdout",
     "output_type": "stream",
     "text": [
      "True\n",
      "True\n",
      "False\n",
      "True\n"
     ]
    }
   ],
   "source": [
    " # Initialize Value\n",
    "x = 'hello guys'\n",
    "y = {3:'a',4:'b'} \n",
    "\n",
    "\n",
    "print('h' in x) \n",
    "\n",
    "print('Hello' not in x) \n",
    "\n",
    "print('hello' not in x) \n",
    "\n",
    "print(3 in y) "
   ]
  },
  {
   "cell_type": "markdown",
   "metadata": {},
   "source": [
    "### Example Of Bitwise Operator"
   ]
  },
  {
   "cell_type": "code",
   "execution_count": 5,
   "metadata": {},
   "outputs": [
    {
     "name": "stdout",
     "output_type": "stream",
     "text": [
      "0\n",
      "14\n",
      "-11\n",
      "14\n",
      "2\n",
      "40\n"
     ]
    }
   ],
   "source": [
    "# Initialize Value\n",
    "a = 10\n",
    "b = 4\n",
    "\n",
    " # Print bitwise AND operation   \n",
    "print(a & b) \n",
    "\n",
    " # Print bitwise OR operation \n",
    "print(a | b) \n",
    "\n",
    " # Print bitwise NOT operation  \n",
    "print(~a) \n",
    "\n",
    " # print bitwise XOR operation  \n",
    "print(a ^ b) \n",
    "\n",
    " # print bitwise right shift operation  \n",
    "print(a >> 2) \n",
    "\n",
    " # print bitwise left shift operation  \n",
    "print(a << 2) "
   ]
  },
  {
   "cell_type": "markdown",
   "metadata": {},
   "source": [
    "### Example Of Identity Operator"
   ]
  },
  {
   "cell_type": "code",
   "execution_count": 6,
   "metadata": {},
   "outputs": [
    {
     "name": "stdout",
     "output_type": "stream",
     "text": [
      "False\n",
      "True\n",
      "False\n"
     ]
    }
   ],
   "source": [
    "# Initializing Value \n",
    "a1 = 3\n",
    "b1 = 3\n",
    "a2 = 'hello'\n",
    "b2 = 'hello'\n",
    "a3 = [1,2,3] \n",
    "b3 = [1,2,3] \n",
    "print(a1 is not b1) \n",
    "\n",
    "\n",
    "print(a2 is b2) \n",
    "\n",
    "# Output is False, since lists are mutable. \n",
    "print(a3 is b3) "
   ]
  },
  {
   "cell_type": "markdown",
   "metadata": {},
   "source": [
    "### Any-All \n",
    "##### Syntax:  any(list of iterables)"
   ]
  },
  {
   "cell_type": "code",
   "execution_count": 7,
   "metadata": {},
   "outputs": [
    {
     "name": "stdout",
     "output_type": "stream",
     "text": [
      "False\n",
      "True\n",
      "True\n"
     ]
    }
   ],
   "source": [
    "# Since all are false, false is returned \n",
    "print (any([False, False, False, False])) \n",
    "\n",
    "# Here the method will short-circuit at the \n",
    "# second item (True) and will return True. \n",
    "print (any([False, True, False, False])) \n",
    "\n",
    "# Here the method will short-circuit at the \n",
    "# first (True) and will return True. \n",
    "print (any([True, False, False, False])) \n"
   ]
  },
  {
   "cell_type": "markdown",
   "metadata": {},
   "source": [
    "##### Syntax : all (list of iterables)"
   ]
  },
  {
   "cell_type": "code",
   "execution_count": 8,
   "metadata": {},
   "outputs": [
    {
     "name": "stdout",
     "output_type": "stream",
     "text": [
      "True\n",
      "False\n",
      "False\n"
     ]
    }
   ],
   "source": [
    "# Here all the iterables are True so all \n",
    "# will return True and the same will be printed \n",
    "print (all([True, True, True, True])) \n",
    "\n",
    "# Here the method will short-circuit at the  \n",
    "# first item (False) and will return False. \n",
    "print (all([False, True, True, False])) \n",
    "\n",
    "# This statement will return False, as no \n",
    "# True is found in the iterables \n",
    "print (all([False, False, False])) "
   ]
  },
  {
   "cell_type": "code",
   "execution_count": null,
   "metadata": {},
   "outputs": [],
   "source": []
  }
 ],
 "metadata": {
  "kernelspec": {
   "display_name": "Python 3",
   "language": "python",
   "name": "python3"
  },
  "language_info": {
   "codemirror_mode": {
    "name": "ipython",
    "version": 3
   },
   "file_extension": ".py",
   "mimetype": "text/x-python",
   "name": "python",
   "nbconvert_exporter": "python",
   "pygments_lexer": "ipython3",
   "version": "3.8.3"
  }
 },
 "nbformat": 4,
 "nbformat_minor": 4
}
